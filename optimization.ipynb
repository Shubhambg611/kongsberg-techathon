{
 "cells": [
  {
   "cell_type": "code",
   "execution_count": 1,
   "metadata": {},
   "outputs": [],
   "source": [
    "import pandas as pd\n",
    "from sklearn.model_selection import train_test_split\n",
    "from sklearn.linear_model import LinearRegression\n",
    "from sklearn.preprocessing import StandardScaler\n",
    "from sklearn.metrics import mean_squared_error\n",
    "\n",
    "# Load the data\n",
    "data = pd.read_excel('D:/Kongsburg/Data/building_energy_data.xlsx')\n",
    "\n"
   ]
  },
  {
   "cell_type": "code",
   "execution_count": 2,
   "metadata": {},
   "outputs": [
    {
     "name": "stdout",
     "output_type": "stream",
     "text": [
      "Date (YYYY-MM-DD)                           datetime64[ns]\n",
      "Time (HH:MM)                                        object\n",
      "Outdoor Temperature (°C)                             int64\n",
      "Corporate                                           object\n",
      "Building Size (m²)                                   int64\n",
      "Humidity (%)                                         int64\n",
      "HVAC Energy Consumption (kWh)                        int64\n",
      "Lighting Energy Consumption (kWh)                    int64\n",
      "Equipment Energy Consumption (kWh)                   int64\n",
      "Total Energy Consumption (kWh)                       int64\n",
      "Corporate Total Energy Consumption (kWh)             int64\n",
      "HVAC Mode                                           object\n",
      "Solar Radiation (W/m²)                               int64\n",
      "Wind Speed (m/s)                                     int64\n",
      "Precipitation (mm)                                   int64\n",
      "Occupancy Level (%)                                  int64\n",
      "Thermostat Settings (°C)                             int64\n",
      "Lighting Schedule                                   object\n",
      "Equipment Usage                                     object\n",
      "Insulation Quality                                  object\n",
      "Window Type                                         object\n",
      "Building Age (years)                                 int64\n",
      "Energy Tariffs (₹/kWh)                               int64\n",
      "Public Holidays                                     object\n",
      "Special Events                                      object\n",
      "Daily Solar Energy Generation (kWh)                float64\n",
      "dtype: object\n"
     ]
    }
   ],
   "source": [
    "# Check data types of the columns\n",
    "print(data.dtypes)\n"
   ]
  },
  {
   "cell_type": "code",
   "execution_count": 3,
   "metadata": {},
   "outputs": [
    {
     "name": "stdout",
     "output_type": "stream",
     "text": [
      "  Date (YYYY-MM-DD) Time (HH:MM)  Outdoor Temperature (°C)  \\\n",
      "0        2021-08-25        12:38                        20   \n",
      "1        2021-08-26        12:27                        22   \n",
      "2        2021-08-26        07:12                        26   \n",
      "3        2021-08-26        09:34                        28   \n",
      "4        2021-08-27        09:21                        23   \n",
      "\n",
      "   Building Size (m²)  Humidity (%)  HVAC Energy Consumption (kWh)  \\\n",
      "0               10000            50                            556   \n",
      "1               20000            79                            587   \n",
      "2               20000            79                            862   \n",
      "3               20000            45                            645   \n",
      "4               30000            51                           1107   \n",
      "\n",
      "   Lighting Energy Consumption (kWh)  Equipment Energy Consumption (kWh)  \\\n",
      "0                                183                                 271   \n",
      "1                                247                                 532   \n",
      "2                                340                                 405   \n",
      "3                                293                                 590   \n",
      "4                                417                                 729   \n",
      "\n",
      "   Total Energy Consumption (kWh)  Corporate Total Energy Consumption (kWh)  \\\n",
      "0                            1010                                    811657   \n",
      "1                            1366                                   1110048   \n",
      "2                            1607                                   1110048   \n",
      "3                            1528                                   1110048   \n",
      "4                            2253                                   1539399   \n",
      "\n",
      "   ...  Insulation Quality_average  Insulation Quality_good  \\\n",
      "0  ...                        True                    False   \n",
      "1  ...                       False                    False   \n",
      "2  ...                       False                    False   \n",
      "3  ...                        True                    False   \n",
      "4  ...                       False                     True   \n",
      "\n",
      "   Insulation Quality_poor  Window Type_double-pane  Window Type_single-pane  \\\n",
      "0                    False                    False                     True   \n",
      "1                     True                     True                    False   \n",
      "2                     True                    False                     True   \n",
      "3                    False                    False                    False   \n",
      "4                    False                    False                     True   \n",
      "\n",
      "   Window Type_triple-pane  Public Holidays_no  Public Holidays_yes  \\\n",
      "0                    False                True                False   \n",
      "1                    False                True                False   \n",
      "2                    False               False                 True   \n",
      "3                     True               False                 True   \n",
      "4                    False               False                 True   \n",
      "\n",
      "   Special Events_no  Special Events_yes  \n",
      "0              False                True  \n",
      "1              False                True  \n",
      "2               True               False  \n",
      "3               True               False  \n",
      "4              False                True  \n",
      "\n",
      "[5 rows x 39 columns]\n"
     ]
    }
   ],
   "source": [
    "# Convert categorical columns to numerical using one-hot encoding\n",
    "data_encoded = pd.get_dummies(data, columns=[\n",
    "    'Corporate', 'HVAC Mode', 'Lighting Schedule', 'Equipment Usage', \n",
    "    'Insulation Quality', 'Window Type', 'Public Holidays', 'Special Events'\n",
    "])\n",
    "\n",
    "# Display the first few rows of the processed data\n",
    "print(data_encoded.head())\n"
   ]
  },
  {
   "cell_type": "code",
   "execution_count": 4,
   "metadata": {},
   "outputs": [
    {
     "name": "stdout",
     "output_type": "stream",
     "text": [
      "X_train shape: (2400, 6)\n",
      "X_test shape: (600, 6)\n",
      "y_train shape: (2400,)\n",
      "y_test shape: (600,)\n"
     ]
    }
   ],
   "source": [
    "from sklearn.model_selection import train_test_split\n",
    "\n",
    "# Define the specific features and the target variable\n",
    "features = [\n",
    "    'Outdoor Temperature (°C)', \n",
    "    'Solar Radiation (W/m²)', \n",
    "    'Insulation Quality_average', \n",
    "    'Insulation Quality_good', \n",
    "    'Insulation Quality_poor', \n",
    "    'Total Energy Consumption (kWh)'\n",
    "]\n",
    "target = 'Thermostat Settings (°C)'\n",
    "\n",
    "# Separate features and target variable\n",
    "X = data_encoded[features]\n",
    "y = data_encoded[target]\n",
    "\n",
    "# Split the data into training and testing sets\n",
    "X_train, X_test, y_train, y_test = train_test_split(X, y, test_size=0.2, random_state=42)\n",
    "\n",
    "# Display the shapes of the resulting datasets\n",
    "print(f'X_train shape: {X_train.shape}')\n",
    "print(f'X_test shape: {X_test.shape}')\n",
    "print(f'y_train shape: {y_train.shape}')\n",
    "print(f'y_test shape: {y_test.shape}')\n"
   ]
  },
  {
   "cell_type": "code",
   "execution_count": 5,
   "metadata": {},
   "outputs": [
    {
     "name": "stdout",
     "output_type": "stream",
     "text": [
      "Mean Squared Error: 0.7782020200501517\n",
      "R-squared: 0.7104756594010996\n",
      "Coefficients: [-1.67840329e-01 -1.03512036e-04  9.49115624e-03  7.55631599e-03\n",
      " -1.70474722e-02  1.58923117e-06]\n",
      "Intercept: 25.533345975448356\n"
     ]
    }
   ],
   "source": [
    "from sklearn.linear_model import LinearRegression\n",
    "from sklearn.metrics import mean_squared_error, r2_score\n",
    "\n",
    "# Initialize and train the model\n",
    "model = LinearRegression()\n",
    "model.fit(X_train, y_train)\n",
    "\n",
    "# Make predictions\n",
    "y_pred = model.predict(X_test)\n",
    "\n",
    "# Evaluate the model\n",
    "mse = mean_squared_error(y_test, y_pred)\n",
    "r2 = r2_score(y_test, y_pred)\n",
    "\n",
    "print(f'Mean Squared Error: {mse}')\n",
    "print(f'R-squared: {r2}')\n",
    "\n",
    "# Display the model coefficients\n",
    "coefficients = model.coef_\n",
    "intercept = model.intercept_\n",
    "\n",
    "print(f'Coefficients: {coefficients}')\n",
    "print(f'Intercept: {intercept}')\n"
   ]
  },
  {
   "cell_type": "code",
   "execution_count": 6,
   "metadata": {},
   "outputs": [
    {
     "data": {
      "text/plain": [
       "['thermostat_model.pkl']"
      ]
     },
     "execution_count": 6,
     "metadata": {},
     "output_type": "execute_result"
    }
   ],
   "source": [
    "import joblib\n",
    "\n",
    "# Save the trained model to a file\n",
    "joblib.dump(model, 'thermostat_model.pkl')\n"
   ]
  },
  {
   "cell_type": "code",
   "execution_count": 7,
   "metadata": {},
   "outputs": [
    {
     "name": "stdout",
     "output_type": "stream",
     "text": [
      "Predicted Thermostat Setting: 21.84°C\n"
     ]
    }
   ],
   "source": [
    "import joblib\n",
    "import pandas as pd\n",
    "\n",
    "# Load the model from the file\n",
    "model = joblib.load('thermostat_model.pkl')\n",
    "\n",
    "# Example new data for prediction\n",
    "new_data = pd.DataFrame({\n",
    "    'Outdoor Temperature (°C)': [22],\n",
    "    'Solar Radiation (W/m²)': [150],\n",
    "    'Insulation Quality_average': [1],\n",
    "    'Insulation Quality_good': [0],\n",
    "    'Insulation Quality_poor': [0],\n",
    "    'Total Energy Consumption (kWh)': [1200]\n",
    "})\n",
    "\n",
    "# Make predictions\n",
    "predicted_temperature = model.predict(new_data)\n",
    "print(f\"Predicted Thermostat Setting: {predicted_temperature[0]:.2f}°C\")\n"
   ]
  },
  {
   "cell_type": "code",
   "execution_count": null,
   "metadata": {},
   "outputs": [],
   "source": []
  }
 ],
 "metadata": {
  "kernelspec": {
   "display_name": ".venv",
   "language": "python",
   "name": "python3"
  },
  "language_info": {
   "codemirror_mode": {
    "name": "ipython",
    "version": 3
   },
   "file_extension": ".py",
   "mimetype": "text/x-python",
   "name": "python",
   "nbconvert_exporter": "python",
   "pygments_lexer": "ipython3",
   "version": "3.12.5"
  }
 },
 "nbformat": 4,
 "nbformat_minor": 2
}
